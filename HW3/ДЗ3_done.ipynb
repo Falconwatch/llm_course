{
  "cells": [
    {
      "cell_type": "markdown",
      "metadata": {
        "id": "view-in-github",
        "colab_type": "text"
      },
      "source": [
        "<a href=\"https://colab.research.google.com/github/Falconwatch/llm_course/blob/main/HW3/%D0%94%D0%973_done.ipynb\" target=\"_parent\"><img src=\"https://colab.research.google.com/assets/colab-badge.svg\" alt=\"Open In Colab\"/></a>"
      ]
    },
    {
      "cell_type": "markdown",
      "source": [
        "# Описание ДЗ3."
      ],
      "metadata": {
        "id": "oY3HD3eyIyC7"
      },
      "id": "oY3HD3eyIyC7"
    },
    {
      "cell_type": "markdown",
      "source": [
        "В семинаре 7 дообучите на задачу предсказания гиперонимов одну декодерную модель (например, GPT2) и одну энкодер-декодерную (например, BART или T5). Сравните полученные метрики с FLAN-T5 из семинара.\n",
        "\n",
        "**Используйте аналогичные данные и аналогичное разделение на подвыборки** (random_state зафиксирован у меня в семинаре).\n",
        "\n",
        "За задание можно получить максимум 10 баллов (за каждую из двух моделей 5 баллов)\n",
        "\n",
        "Разбалловка:\n",
        "*   **Воспроизводимость и читабельность кода - 3 балла** (все воспроизвелось и все понятно для проверяющего - 3 балла; есть непонятные моменты, но все воспроизвелось - 2 балла; непонятный код и/или воспроизводится с небольшой правкой - 1 балл; непонятный код и/или ничего не воспроизвелось - 0 баллов).\n",
        "*   **Технический отчет - 2 балла** (приведены результаты сравнения и выводы, почему данная модель лучше/хуже модели из семинара - 2 балла, только результаты сравнения - 1 балл, ничего нет - 0 баллов).\n"
      ],
      "metadata": {
        "id": "rRly-JkgJOo_"
      },
      "id": "rRly-JkgJOo_"
    },
    {
      "cell_type": "markdown",
      "id": "b09d7a19-5848-43f4-9d91-f35d4e8614b0",
      "metadata": {
        "id": "b09d7a19-5848-43f4-9d91-f35d4e8614b0"
      },
      "source": [
        "# 1. Информация о сабмите"
      ]
    },
    {
      "cell_type": "markdown",
      "id": "cc8a4e09-62cc-43fd-a7a7-3e9d55ec13b2",
      "metadata": {
        "id": "cc8a4e09-62cc-43fd-a7a7-3e9d55ec13b2"
      },
      "source": [
        "**Щербаков Игорь Андреевич**"
      ]
    },
    {
      "cell_type": "markdown",
      "id": "1af498ab-3c00-4d36-a962-c947862fede8",
      "metadata": {
        "id": "1af498ab-3c00-4d36-a962-c947862fede8"
      },
      "source": [
        "# 2. Технический отчет"
      ]
    },
    {
      "cell_type": "markdown",
      "id": "c327f43e-ed30-4279-bba2-a97b2f8ef9e3",
      "metadata": {
        "id": "c327f43e-ed30-4279-bba2-a97b2f8ef9e3"
      },
      "source": [
        "***Введите сюда** подробное описание предложенных методов и экспериментов, с помощью которых вы пришли именно к выбору этих методов. НЕ вставляйте код в эту часть. Описание должно состоять минимум из 2-4 абзацев и содержать следующее: тип модели, параметры, как вы выбрали параметры, какие дальнейшие модификации готовых решений и т.д. вы использовали. Сюда можно включить, например, некоторые хитрости вашей предварительной обработки, описание моделей и мотивацию их использования, описание деталей процесса обучения. Если нужно, вставьте сюда графики, математические формулы.*\n",
        "\n",
        "\n",
        "Пример решения на полный балл для похожей задачи (цифры в таблице приведены информативно):\n",
        "\n",
        "Method | F1 Average |\n",
        "--- | --- |\n",
        "Baseline | 0.447 |\n",
        "Rubert-tiny2 (unfreeze first layer) | 0.514 |\n",
        "Rubert-tiny2 (unfreeze all layers) | 0.575 |\n",
        "Distilbert (unfreeze all layers) | 0.662 |\n",
        "Distilbert (unfreeze all layers, custom loss) | 0.664 |\n",
        "Deberta_base | 0.740 |\n",
        "\n",
        "Выводы:\n",
        "*   Вывод 1\n",
        "*   Вывод 2\n",
        "*   Вывод 3\n"
      ]
    },
    {
      "cell_type": "markdown",
      "id": "194fecf1-e044-4210-a54b-aefbf4b4eebe",
      "metadata": {
        "id": "194fecf1-e044-4210-a54b-aefbf4b4eebe"
      },
      "source": [
        "# 3. *Code*"
      ]
    },
    {
      "cell_type": "markdown",
      "id": "a33ff9bd-62c6-4a63-8600-b1651420fee1",
      "metadata": {
        "id": "a33ff9bd-62c6-4a63-8600-b1651420fee1"
      },
      "source": [
        "*Введите сюда весь код, использованный для получения результатов. Добавьте несколько комментариев и подразделов для навигации по вашему решению.*\n",
        "\n",
        "*В этой части вам предстоит самостоятельно разработать решение задачи и предоставить воспроизводимый код:*\n",
        "- *Использование Python 3;*\n",
        "- *Содержит код для установки всех зависимостей;*\n",
        "- *Содержит код для загрузки всех используемых наборов данных*;\n",
        "- *Содержит код для воспроизведения ваших результатов (другими словами, если проверяющий загрузит ваш блокнот, он сможет выполнить код по ячейкам и получить результаты эксперимента, как описано в разделе методологии)*.\n",
        "\n",
        "\n",
        "*В результате ваш код будет оценен по следующим критериям:*\n",
        "- ***Читаемость**: ваш код должен быть хорошо структурирован, желательно с указанием частей вашего подхода (предварительная обработка, обучение модели, тестирование модели и т. д.).*\n",
        "- ***Воспроизводимость**: ваш код должен воспроизводиться без ошибок в режиме «Выполнить все» (получение экспериментальной части).*\n"
      ]
    },
    {
      "cell_type": "markdown",
      "id": "1b3c19fa-f883-4675-9506-85c4f02f0af9",
      "metadata": {
        "id": "1b3c19fa-f883-4675-9506-85c4f02f0af9"
      },
      "source": [
        "## 3.1 Импорт библиотек"
      ]
    },
    {
      "cell_type": "code",
      "source": [
        "!pip install -q transformers\n",
        "!pip install -q sentencepiece\n",
        "!pip install -q accelerate -U"
      ],
      "metadata": {
        "colab": {
          "base_uri": "https://localhost:8080/"
        },
        "id": "iZYTdAQDCcew",
        "outputId": "3a3dceb5-3be1-4161-c26e-af772a9b2135"
      },
      "id": "iZYTdAQDCcew",
      "execution_count": 1,
      "outputs": [
        {
          "output_type": "stream",
          "name": "stdout",
          "text": [
            "\u001b[2K   \u001b[90m━━━━━━━━━━━━━━━━━━━━━━━━━━━━━━━━━━━━━━━━\u001b[0m \u001b[32m315.1/315.1 kB\u001b[0m \u001b[31m11.8 MB/s\u001b[0m eta \u001b[36m0:00:00\u001b[0m\n",
            "\u001b[2K   \u001b[90m━━━━━━━━━━━━━━━━━━━━━━━━━━━━━━━━━━━━━━━━\u001b[0m \u001b[32m21.3/21.3 MB\u001b[0m \u001b[31m26.2 MB/s\u001b[0m eta \u001b[36m0:00:00\u001b[0m\n",
            "\u001b[?25h"
          ]
        }
      ]
    },
    {
      "cell_type": "code",
      "source": [
        "# some imports\n",
        "import pandas as pd\n",
        "import torch\n",
        "from torch.utils.data import Dataset, DataLoader\n",
        "from typing import List, Dict, Union\n",
        "from transformers import T5Tokenizer, T5ForConditionalGeneration\n",
        "\n",
        "from tqdm import tqdm\n",
        "import collections\n",
        "import re"
      ],
      "metadata": {
        "id": "9RQzpKJkLczr"
      },
      "id": "9RQzpKJkLczr",
      "execution_count": 2,
      "outputs": []
    },
    {
      "cell_type": "code",
      "source": [
        "SEED = 0\n",
        "torch.manual_seed(SEED)\n",
        "torch.cuda.manual_seed(SEED)"
      ],
      "metadata": {
        "id": "Rvt7ALrWChT6"
      },
      "id": "Rvt7ALrWChT6",
      "execution_count": 3,
      "outputs": []
    },
    {
      "cell_type": "markdown",
      "id": "791dc0e7-337d-46ad-96a3-543a732f19e2",
      "metadata": {
        "id": "791dc0e7-337d-46ad-96a3-543a732f19e2"
      },
      "source": [
        "## 3.2 Загрузка данных"
      ]
    },
    {
      "cell_type": "code",
      "execution_count": 4,
      "id": "b71a4653-86f2-448a-a2c4-17c02c1ba940",
      "metadata": {
        "tags": [],
        "id": "b71a4653-86f2-448a-a2c4-17c02c1ba940"
      },
      "outputs": [],
      "source": [
        "# download the data\n",
        "!wget -q --no-check-certificate 'https://docs.google.com/uc?export=download&id=1EQ7KmpLDgG9_bHbt1Mjz4acKjDQWpMza' -O SemEval2018-Task9.zip\n",
        "\n",
        "!unzip -q SemEval2018-Task9.zip\n",
        "!rm SemEval2018-Task9.zip"
      ]
    },
    {
      "cell_type": "code",
      "source": [
        "path_x = 'training/data/1A.english.training.data.txt'\n",
        "path_y = 'training/gold/1A.english.training.gold.txt'\n",
        "\n",
        "path_x_test = 'test/data/1A.english.test.data.txt'\n",
        "path_y_test = 'test/gold/1A.english.test.gold.txt'"
      ],
      "metadata": {
        "id": "hU0notQxCDE3"
      },
      "id": "hU0notQxCDE3",
      "execution_count": 5,
      "outputs": []
    },
    {
      "cell_type": "code",
      "source": [
        "def read_Y(path):\n",
        "    with open(path) as input:\n",
        "        Y = [line.rstrip('\\n').split('\\t') for line in input]\n",
        "    return Y"
      ],
      "metadata": {
        "id": "Djg5JpFpCDhb"
      },
      "id": "Djg5JpFpCDhb",
      "execution_count": 6,
      "outputs": []
    },
    {
      "cell_type": "code",
      "source": [
        "df = pd.read_csv(path_x, sep='\\t', header= None, names=['hyponym', 'property'])\n",
        "df_test = pd.read_csv(path_x_test, sep='\\t', header= None, names=['hyponym', 'property'])\n",
        "\n",
        "df.insert(2, 'hypernyms', read_Y(path_y))\n",
        "df_test.insert(2, 'hypernyms', read_Y(path_y_test))\n",
        "\n",
        "df['hypernyms'] = [', '.join(map(str, l)) for l in df['hypernyms']]\n",
        "df_test['hypernyms'] = [', '.join(map(str, l)) for l in df_test['hypernyms']]\n",
        "\n",
        "df_test.head()"
      ],
      "metadata": {
        "colab": {
          "base_uri": "https://localhost:8080/",
          "height": 204
        },
        "id": "vnUcuHZKCG1Y",
        "outputId": "bf598a15-9a57-43ce-a302-907d0f380038"
      },
      "id": "vnUcuHZKCG1Y",
      "execution_count": 7,
      "outputs": [
        {
          "output_type": "execute_result",
          "data": {
            "text/plain": [
              "         hyponym property                                          hypernyms\n",
              "0  maliciousness  Concept     malevolence, distaste, hatred, hate, malignity\n",
              "1        buckler  Concept                                         body armor\n",
              "2      spelunker  Concept                  exploration, adventurer, explorer\n",
              "3   quo warranto  Concept  proceedings, legal proceedings, proceeding, du...\n",
              "4   Jeff Francis   Entity             thrower, baseball player, jock, person"
            ],
            "text/html": [
              "\n",
              "  <div id=\"df-392f2e21-aab1-49ee-9b71-d29d1aaa91b6\" class=\"colab-df-container\">\n",
              "    <div>\n",
              "<style scoped>\n",
              "    .dataframe tbody tr th:only-of-type {\n",
              "        vertical-align: middle;\n",
              "    }\n",
              "\n",
              "    .dataframe tbody tr th {\n",
              "        vertical-align: top;\n",
              "    }\n",
              "\n",
              "    .dataframe thead th {\n",
              "        text-align: right;\n",
              "    }\n",
              "</style>\n",
              "<table border=\"1\" class=\"dataframe\">\n",
              "  <thead>\n",
              "    <tr style=\"text-align: right;\">\n",
              "      <th></th>\n",
              "      <th>hyponym</th>\n",
              "      <th>property</th>\n",
              "      <th>hypernyms</th>\n",
              "    </tr>\n",
              "  </thead>\n",
              "  <tbody>\n",
              "    <tr>\n",
              "      <th>0</th>\n",
              "      <td>maliciousness</td>\n",
              "      <td>Concept</td>\n",
              "      <td>malevolence, distaste, hatred, hate, malignity</td>\n",
              "    </tr>\n",
              "    <tr>\n",
              "      <th>1</th>\n",
              "      <td>buckler</td>\n",
              "      <td>Concept</td>\n",
              "      <td>body armor</td>\n",
              "    </tr>\n",
              "    <tr>\n",
              "      <th>2</th>\n",
              "      <td>spelunker</td>\n",
              "      <td>Concept</td>\n",
              "      <td>exploration, adventurer, explorer</td>\n",
              "    </tr>\n",
              "    <tr>\n",
              "      <th>3</th>\n",
              "      <td>quo warranto</td>\n",
              "      <td>Concept</td>\n",
              "      <td>proceedings, legal proceedings, proceeding, du...</td>\n",
              "    </tr>\n",
              "    <tr>\n",
              "      <th>4</th>\n",
              "      <td>Jeff Francis</td>\n",
              "      <td>Entity</td>\n",
              "      <td>thrower, baseball player, jock, person</td>\n",
              "    </tr>\n",
              "  </tbody>\n",
              "</table>\n",
              "</div>\n",
              "    <div class=\"colab-df-buttons\">\n",
              "\n",
              "  <div class=\"colab-df-container\">\n",
              "    <button class=\"colab-df-convert\" onclick=\"convertToInteractive('df-392f2e21-aab1-49ee-9b71-d29d1aaa91b6')\"\n",
              "            title=\"Convert this dataframe to an interactive table.\"\n",
              "            style=\"display:none;\">\n",
              "\n",
              "  <svg xmlns=\"http://www.w3.org/2000/svg\" height=\"24px\" viewBox=\"0 -960 960 960\">\n",
              "    <path d=\"M120-120v-720h720v720H120Zm60-500h600v-160H180v160Zm220 220h160v-160H400v160Zm0 220h160v-160H400v160ZM180-400h160v-160H180v160Zm440 0h160v-160H620v160ZM180-180h160v-160H180v160Zm440 0h160v-160H620v160Z\"/>\n",
              "  </svg>\n",
              "    </button>\n",
              "\n",
              "  <style>\n",
              "    .colab-df-container {\n",
              "      display:flex;\n",
              "      gap: 12px;\n",
              "    }\n",
              "\n",
              "    .colab-df-convert {\n",
              "      background-color: #E8F0FE;\n",
              "      border: none;\n",
              "      border-radius: 50%;\n",
              "      cursor: pointer;\n",
              "      display: none;\n",
              "      fill: #1967D2;\n",
              "      height: 32px;\n",
              "      padding: 0 0 0 0;\n",
              "      width: 32px;\n",
              "    }\n",
              "\n",
              "    .colab-df-convert:hover {\n",
              "      background-color: #E2EBFA;\n",
              "      box-shadow: 0px 1px 2px rgba(60, 64, 67, 0.3), 0px 1px 3px 1px rgba(60, 64, 67, 0.15);\n",
              "      fill: #174EA6;\n",
              "    }\n",
              "\n",
              "    .colab-df-buttons div {\n",
              "      margin-bottom: 4px;\n",
              "    }\n",
              "\n",
              "    [theme=dark] .colab-df-convert {\n",
              "      background-color: #3B4455;\n",
              "      fill: #D2E3FC;\n",
              "    }\n",
              "\n",
              "    [theme=dark] .colab-df-convert:hover {\n",
              "      background-color: #434B5C;\n",
              "      box-shadow: 0px 1px 3px 1px rgba(0, 0, 0, 0.15);\n",
              "      filter: drop-shadow(0px 1px 2px rgba(0, 0, 0, 0.3));\n",
              "      fill: #FFFFFF;\n",
              "    }\n",
              "  </style>\n",
              "\n",
              "    <script>\n",
              "      const buttonEl =\n",
              "        document.querySelector('#df-392f2e21-aab1-49ee-9b71-d29d1aaa91b6 button.colab-df-convert');\n",
              "      buttonEl.style.display =\n",
              "        google.colab.kernel.accessAllowed ? 'block' : 'none';\n",
              "\n",
              "      async function convertToInteractive(key) {\n",
              "        const element = document.querySelector('#df-392f2e21-aab1-49ee-9b71-d29d1aaa91b6');\n",
              "        const dataTable =\n",
              "          await google.colab.kernel.invokeFunction('convertToInteractive',\n",
              "                                                    [key], {});\n",
              "        if (!dataTable) return;\n",
              "\n",
              "        const docLinkHtml = 'Like what you see? Visit the ' +\n",
              "          '<a target=\"_blank\" href=https://colab.research.google.com/notebooks/data_table.ipynb>data table notebook</a>'\n",
              "          + ' to learn more about interactive tables.';\n",
              "        element.innerHTML = '';\n",
              "        dataTable['output_type'] = 'display_data';\n",
              "        await google.colab.output.renderOutput(dataTable, element);\n",
              "        const docLink = document.createElement('div');\n",
              "        docLink.innerHTML = docLinkHtml;\n",
              "        element.appendChild(docLink);\n",
              "      }\n",
              "    </script>\n",
              "  </div>\n",
              "\n",
              "\n",
              "<div id=\"df-56197841-ab39-4234-9723-4db4eec53465\">\n",
              "  <button class=\"colab-df-quickchart\" onclick=\"quickchart('df-56197841-ab39-4234-9723-4db4eec53465')\"\n",
              "            title=\"Suggest charts\"\n",
              "            style=\"display:none;\">\n",
              "\n",
              "<svg xmlns=\"http://www.w3.org/2000/svg\" height=\"24px\"viewBox=\"0 0 24 24\"\n",
              "     width=\"24px\">\n",
              "    <g>\n",
              "        <path d=\"M19 3H5c-1.1 0-2 .9-2 2v14c0 1.1.9 2 2 2h14c1.1 0 2-.9 2-2V5c0-1.1-.9-2-2-2zM9 17H7v-7h2v7zm4 0h-2V7h2v10zm4 0h-2v-4h2v4z\"/>\n",
              "    </g>\n",
              "</svg>\n",
              "  </button>\n",
              "\n",
              "<style>\n",
              "  .colab-df-quickchart {\n",
              "      --bg-color: #E8F0FE;\n",
              "      --fill-color: #1967D2;\n",
              "      --hover-bg-color: #E2EBFA;\n",
              "      --hover-fill-color: #174EA6;\n",
              "      --disabled-fill-color: #AAA;\n",
              "      --disabled-bg-color: #DDD;\n",
              "  }\n",
              "\n",
              "  [theme=dark] .colab-df-quickchart {\n",
              "      --bg-color: #3B4455;\n",
              "      --fill-color: #D2E3FC;\n",
              "      --hover-bg-color: #434B5C;\n",
              "      --hover-fill-color: #FFFFFF;\n",
              "      --disabled-bg-color: #3B4455;\n",
              "      --disabled-fill-color: #666;\n",
              "  }\n",
              "\n",
              "  .colab-df-quickchart {\n",
              "    background-color: var(--bg-color);\n",
              "    border: none;\n",
              "    border-radius: 50%;\n",
              "    cursor: pointer;\n",
              "    display: none;\n",
              "    fill: var(--fill-color);\n",
              "    height: 32px;\n",
              "    padding: 0;\n",
              "    width: 32px;\n",
              "  }\n",
              "\n",
              "  .colab-df-quickchart:hover {\n",
              "    background-color: var(--hover-bg-color);\n",
              "    box-shadow: 0 1px 2px rgba(60, 64, 67, 0.3), 0 1px 3px 1px rgba(60, 64, 67, 0.15);\n",
              "    fill: var(--button-hover-fill-color);\n",
              "  }\n",
              "\n",
              "  .colab-df-quickchart-complete:disabled,\n",
              "  .colab-df-quickchart-complete:disabled:hover {\n",
              "    background-color: var(--disabled-bg-color);\n",
              "    fill: var(--disabled-fill-color);\n",
              "    box-shadow: none;\n",
              "  }\n",
              "\n",
              "  .colab-df-spinner {\n",
              "    border: 2px solid var(--fill-color);\n",
              "    border-color: transparent;\n",
              "    border-bottom-color: var(--fill-color);\n",
              "    animation:\n",
              "      spin 1s steps(1) infinite;\n",
              "  }\n",
              "\n",
              "  @keyframes spin {\n",
              "    0% {\n",
              "      border-color: transparent;\n",
              "      border-bottom-color: var(--fill-color);\n",
              "      border-left-color: var(--fill-color);\n",
              "    }\n",
              "    20% {\n",
              "      border-color: transparent;\n",
              "      border-left-color: var(--fill-color);\n",
              "      border-top-color: var(--fill-color);\n",
              "    }\n",
              "    30% {\n",
              "      border-color: transparent;\n",
              "      border-left-color: var(--fill-color);\n",
              "      border-top-color: var(--fill-color);\n",
              "      border-right-color: var(--fill-color);\n",
              "    }\n",
              "    40% {\n",
              "      border-color: transparent;\n",
              "      border-right-color: var(--fill-color);\n",
              "      border-top-color: var(--fill-color);\n",
              "    }\n",
              "    60% {\n",
              "      border-color: transparent;\n",
              "      border-right-color: var(--fill-color);\n",
              "    }\n",
              "    80% {\n",
              "      border-color: transparent;\n",
              "      border-right-color: var(--fill-color);\n",
              "      border-bottom-color: var(--fill-color);\n",
              "    }\n",
              "    90% {\n",
              "      border-color: transparent;\n",
              "      border-bottom-color: var(--fill-color);\n",
              "    }\n",
              "  }\n",
              "</style>\n",
              "\n",
              "  <script>\n",
              "    async function quickchart(key) {\n",
              "      const quickchartButtonEl =\n",
              "        document.querySelector('#' + key + ' button');\n",
              "      quickchartButtonEl.disabled = true;  // To prevent multiple clicks.\n",
              "      quickchartButtonEl.classList.add('colab-df-spinner');\n",
              "      try {\n",
              "        const charts = await google.colab.kernel.invokeFunction(\n",
              "            'suggestCharts', [key], {});\n",
              "      } catch (error) {\n",
              "        console.error('Error during call to suggestCharts:', error);\n",
              "      }\n",
              "      quickchartButtonEl.classList.remove('colab-df-spinner');\n",
              "      quickchartButtonEl.classList.add('colab-df-quickchart-complete');\n",
              "    }\n",
              "    (() => {\n",
              "      let quickchartButtonEl =\n",
              "        document.querySelector('#df-56197841-ab39-4234-9723-4db4eec53465 button');\n",
              "      quickchartButtonEl.style.display =\n",
              "        google.colab.kernel.accessAllowed ? 'block' : 'none';\n",
              "    })();\n",
              "  </script>\n",
              "</div>\n",
              "    </div>\n",
              "  </div>\n"
            ],
            "application/vnd.google.colaboratory.intrinsic+json": {
              "type": "dataframe",
              "variable_name": "df_test",
              "summary": "{\n  \"name\": \"df_test\",\n  \"rows\": 1500,\n  \"fields\": [\n    {\n      \"column\": \"hyponym\",\n      \"properties\": {\n        \"dtype\": \"string\",\n        \"num_unique_values\": 1500,\n        \"samples\": [\n          \"newsprint\",\n          \"arm\",\n          \"disobedience\"\n        ],\n        \"semantic_type\": \"\",\n        \"description\": \"\"\n      }\n    },\n    {\n      \"column\": \"property\",\n      \"properties\": {\n        \"dtype\": \"category\",\n        \"num_unique_values\": 2,\n        \"samples\": [\n          \"Entity\",\n          \"Concept\"\n        ],\n        \"semantic_type\": \"\",\n        \"description\": \"\"\n      }\n    },\n    {\n      \"column\": \"hypernyms\",\n      \"properties\": {\n        \"dtype\": \"string\",\n        \"num_unique_values\": 1438,\n        \"samples\": [\n          \"disagreeable person, unpleasant person, biofilm\",\n          \"spiciness, spicery, taste, wit, humor\"\n        ],\n        \"semantic_type\": \"\",\n        \"description\": \"\"\n      }\n    }\n  ]\n}"
            }
          },
          "metadata": {},
          "execution_count": 7
        }
      ]
    },
    {
      "cell_type": "code",
      "source": [
        "def generate_input_prompt(dataframe):\n",
        "    _input = []\n",
        "    for hyponym in dataframe.hyponym:\n",
        "        input_text = f\"hyponym: {hyponym}, predict hypernyms:\"\n",
        "        _input.append(input_text)\n",
        "    return _input\n",
        "\n",
        "df.insert(3, 'hyponyms_input', generate_input_prompt(df))\n",
        "df_test.insert(3, 'hyponyms_input', generate_input_prompt(df_test))\n",
        "df.head()"
      ],
      "metadata": {
        "colab": {
          "base_uri": "https://localhost:8080/",
          "height": 204
        },
        "id": "aL75EPEgCTJs",
        "outputId": "7b464e39-6ff3-41cf-beef-1560b7bfd8e6"
      },
      "id": "aL75EPEgCTJs",
      "execution_count": 8,
      "outputs": [
        {
          "output_type": "execute_result",
          "data": {
            "text/plain": [
              "          hyponym property                                          hypernyms  \\\n",
              "0        blackfly  Concept                         homopterous insect, insect   \n",
              "1        Turonian   Entity  technical specification, geologic timescale, p...   \n",
              "2      abhorrence  Concept                    distaste, hatred, hate, disgust   \n",
              "3  tropical storm  Concept  atmosphere, windstorm, violent storm, air curr...   \n",
              "4  militarization  Concept                                     social control   \n",
              "\n",
              "                                hyponyms_input  \n",
              "0        hyponym: blackfly, predict hypernyms:  \n",
              "1        hyponym: Turonian, predict hypernyms:  \n",
              "2      hyponym: abhorrence, predict hypernyms:  \n",
              "3  hyponym: tropical storm, predict hypernyms:  \n",
              "4  hyponym: militarization, predict hypernyms:  "
            ],
            "text/html": [
              "\n",
              "  <div id=\"df-7de36665-30a8-427b-bf06-20703abb3ec8\" class=\"colab-df-container\">\n",
              "    <div>\n",
              "<style scoped>\n",
              "    .dataframe tbody tr th:only-of-type {\n",
              "        vertical-align: middle;\n",
              "    }\n",
              "\n",
              "    .dataframe tbody tr th {\n",
              "        vertical-align: top;\n",
              "    }\n",
              "\n",
              "    .dataframe thead th {\n",
              "        text-align: right;\n",
              "    }\n",
              "</style>\n",
              "<table border=\"1\" class=\"dataframe\">\n",
              "  <thead>\n",
              "    <tr style=\"text-align: right;\">\n",
              "      <th></th>\n",
              "      <th>hyponym</th>\n",
              "      <th>property</th>\n",
              "      <th>hypernyms</th>\n",
              "      <th>hyponyms_input</th>\n",
              "    </tr>\n",
              "  </thead>\n",
              "  <tbody>\n",
              "    <tr>\n",
              "      <th>0</th>\n",
              "      <td>blackfly</td>\n",
              "      <td>Concept</td>\n",
              "      <td>homopterous insect, insect</td>\n",
              "      <td>hyponym: blackfly, predict hypernyms:</td>\n",
              "    </tr>\n",
              "    <tr>\n",
              "      <th>1</th>\n",
              "      <td>Turonian</td>\n",
              "      <td>Entity</td>\n",
              "      <td>technical specification, geologic timescale, p...</td>\n",
              "      <td>hyponym: Turonian, predict hypernyms:</td>\n",
              "    </tr>\n",
              "    <tr>\n",
              "      <th>2</th>\n",
              "      <td>abhorrence</td>\n",
              "      <td>Concept</td>\n",
              "      <td>distaste, hatred, hate, disgust</td>\n",
              "      <td>hyponym: abhorrence, predict hypernyms:</td>\n",
              "    </tr>\n",
              "    <tr>\n",
              "      <th>3</th>\n",
              "      <td>tropical storm</td>\n",
              "      <td>Concept</td>\n",
              "      <td>atmosphere, windstorm, violent storm, air curr...</td>\n",
              "      <td>hyponym: tropical storm, predict hypernyms:</td>\n",
              "    </tr>\n",
              "    <tr>\n",
              "      <th>4</th>\n",
              "      <td>militarization</td>\n",
              "      <td>Concept</td>\n",
              "      <td>social control</td>\n",
              "      <td>hyponym: militarization, predict hypernyms:</td>\n",
              "    </tr>\n",
              "  </tbody>\n",
              "</table>\n",
              "</div>\n",
              "    <div class=\"colab-df-buttons\">\n",
              "\n",
              "  <div class=\"colab-df-container\">\n",
              "    <button class=\"colab-df-convert\" onclick=\"convertToInteractive('df-7de36665-30a8-427b-bf06-20703abb3ec8')\"\n",
              "            title=\"Convert this dataframe to an interactive table.\"\n",
              "            style=\"display:none;\">\n",
              "\n",
              "  <svg xmlns=\"http://www.w3.org/2000/svg\" height=\"24px\" viewBox=\"0 -960 960 960\">\n",
              "    <path d=\"M120-120v-720h720v720H120Zm60-500h600v-160H180v160Zm220 220h160v-160H400v160Zm0 220h160v-160H400v160ZM180-400h160v-160H180v160Zm440 0h160v-160H620v160ZM180-180h160v-160H180v160Zm440 0h160v-160H620v160Z\"/>\n",
              "  </svg>\n",
              "    </button>\n",
              "\n",
              "  <style>\n",
              "    .colab-df-container {\n",
              "      display:flex;\n",
              "      gap: 12px;\n",
              "    }\n",
              "\n",
              "    .colab-df-convert {\n",
              "      background-color: #E8F0FE;\n",
              "      border: none;\n",
              "      border-radius: 50%;\n",
              "      cursor: pointer;\n",
              "      display: none;\n",
              "      fill: #1967D2;\n",
              "      height: 32px;\n",
              "      padding: 0 0 0 0;\n",
              "      width: 32px;\n",
              "    }\n",
              "\n",
              "    .colab-df-convert:hover {\n",
              "      background-color: #E2EBFA;\n",
              "      box-shadow: 0px 1px 2px rgba(60, 64, 67, 0.3), 0px 1px 3px 1px rgba(60, 64, 67, 0.15);\n",
              "      fill: #174EA6;\n",
              "    }\n",
              "\n",
              "    .colab-df-buttons div {\n",
              "      margin-bottom: 4px;\n",
              "    }\n",
              "\n",
              "    [theme=dark] .colab-df-convert {\n",
              "      background-color: #3B4455;\n",
              "      fill: #D2E3FC;\n",
              "    }\n",
              "\n",
              "    [theme=dark] .colab-df-convert:hover {\n",
              "      background-color: #434B5C;\n",
              "      box-shadow: 0px 1px 3px 1px rgba(0, 0, 0, 0.15);\n",
              "      filter: drop-shadow(0px 1px 2px rgba(0, 0, 0, 0.3));\n",
              "      fill: #FFFFFF;\n",
              "    }\n",
              "  </style>\n",
              "\n",
              "    <script>\n",
              "      const buttonEl =\n",
              "        document.querySelector('#df-7de36665-30a8-427b-bf06-20703abb3ec8 button.colab-df-convert');\n",
              "      buttonEl.style.display =\n",
              "        google.colab.kernel.accessAllowed ? 'block' : 'none';\n",
              "\n",
              "      async function convertToInteractive(key) {\n",
              "        const element = document.querySelector('#df-7de36665-30a8-427b-bf06-20703abb3ec8');\n",
              "        const dataTable =\n",
              "          await google.colab.kernel.invokeFunction('convertToInteractive',\n",
              "                                                    [key], {});\n",
              "        if (!dataTable) return;\n",
              "\n",
              "        const docLinkHtml = 'Like what you see? Visit the ' +\n",
              "          '<a target=\"_blank\" href=https://colab.research.google.com/notebooks/data_table.ipynb>data table notebook</a>'\n",
              "          + ' to learn more about interactive tables.';\n",
              "        element.innerHTML = '';\n",
              "        dataTable['output_type'] = 'display_data';\n",
              "        await google.colab.output.renderOutput(dataTable, element);\n",
              "        const docLink = document.createElement('div');\n",
              "        docLink.innerHTML = docLinkHtml;\n",
              "        element.appendChild(docLink);\n",
              "      }\n",
              "    </script>\n",
              "  </div>\n",
              "\n",
              "\n",
              "<div id=\"df-225d7b7b-dc89-4bcf-9e5f-d92b67bea027\">\n",
              "  <button class=\"colab-df-quickchart\" onclick=\"quickchart('df-225d7b7b-dc89-4bcf-9e5f-d92b67bea027')\"\n",
              "            title=\"Suggest charts\"\n",
              "            style=\"display:none;\">\n",
              "\n",
              "<svg xmlns=\"http://www.w3.org/2000/svg\" height=\"24px\"viewBox=\"0 0 24 24\"\n",
              "     width=\"24px\">\n",
              "    <g>\n",
              "        <path d=\"M19 3H5c-1.1 0-2 .9-2 2v14c0 1.1.9 2 2 2h14c1.1 0 2-.9 2-2V5c0-1.1-.9-2-2-2zM9 17H7v-7h2v7zm4 0h-2V7h2v10zm4 0h-2v-4h2v4z\"/>\n",
              "    </g>\n",
              "</svg>\n",
              "  </button>\n",
              "\n",
              "<style>\n",
              "  .colab-df-quickchart {\n",
              "      --bg-color: #E8F0FE;\n",
              "      --fill-color: #1967D2;\n",
              "      --hover-bg-color: #E2EBFA;\n",
              "      --hover-fill-color: #174EA6;\n",
              "      --disabled-fill-color: #AAA;\n",
              "      --disabled-bg-color: #DDD;\n",
              "  }\n",
              "\n",
              "  [theme=dark] .colab-df-quickchart {\n",
              "      --bg-color: #3B4455;\n",
              "      --fill-color: #D2E3FC;\n",
              "      --hover-bg-color: #434B5C;\n",
              "      --hover-fill-color: #FFFFFF;\n",
              "      --disabled-bg-color: #3B4455;\n",
              "      --disabled-fill-color: #666;\n",
              "  }\n",
              "\n",
              "  .colab-df-quickchart {\n",
              "    background-color: var(--bg-color);\n",
              "    border: none;\n",
              "    border-radius: 50%;\n",
              "    cursor: pointer;\n",
              "    display: none;\n",
              "    fill: var(--fill-color);\n",
              "    height: 32px;\n",
              "    padding: 0;\n",
              "    width: 32px;\n",
              "  }\n",
              "\n",
              "  .colab-df-quickchart:hover {\n",
              "    background-color: var(--hover-bg-color);\n",
              "    box-shadow: 0 1px 2px rgba(60, 64, 67, 0.3), 0 1px 3px 1px rgba(60, 64, 67, 0.15);\n",
              "    fill: var(--button-hover-fill-color);\n",
              "  }\n",
              "\n",
              "  .colab-df-quickchart-complete:disabled,\n",
              "  .colab-df-quickchart-complete:disabled:hover {\n",
              "    background-color: var(--disabled-bg-color);\n",
              "    fill: var(--disabled-fill-color);\n",
              "    box-shadow: none;\n",
              "  }\n",
              "\n",
              "  .colab-df-spinner {\n",
              "    border: 2px solid var(--fill-color);\n",
              "    border-color: transparent;\n",
              "    border-bottom-color: var(--fill-color);\n",
              "    animation:\n",
              "      spin 1s steps(1) infinite;\n",
              "  }\n",
              "\n",
              "  @keyframes spin {\n",
              "    0% {\n",
              "      border-color: transparent;\n",
              "      border-bottom-color: var(--fill-color);\n",
              "      border-left-color: var(--fill-color);\n",
              "    }\n",
              "    20% {\n",
              "      border-color: transparent;\n",
              "      border-left-color: var(--fill-color);\n",
              "      border-top-color: var(--fill-color);\n",
              "    }\n",
              "    30% {\n",
              "      border-color: transparent;\n",
              "      border-left-color: var(--fill-color);\n",
              "      border-top-color: var(--fill-color);\n",
              "      border-right-color: var(--fill-color);\n",
              "    }\n",
              "    40% {\n",
              "      border-color: transparent;\n",
              "      border-right-color: var(--fill-color);\n",
              "      border-top-color: var(--fill-color);\n",
              "    }\n",
              "    60% {\n",
              "      border-color: transparent;\n",
              "      border-right-color: var(--fill-color);\n",
              "    }\n",
              "    80% {\n",
              "      border-color: transparent;\n",
              "      border-right-color: var(--fill-color);\n",
              "      border-bottom-color: var(--fill-color);\n",
              "    }\n",
              "    90% {\n",
              "      border-color: transparent;\n",
              "      border-bottom-color: var(--fill-color);\n",
              "    }\n",
              "  }\n",
              "</style>\n",
              "\n",
              "  <script>\n",
              "    async function quickchart(key) {\n",
              "      const quickchartButtonEl =\n",
              "        document.querySelector('#' + key + ' button');\n",
              "      quickchartButtonEl.disabled = true;  // To prevent multiple clicks.\n",
              "      quickchartButtonEl.classList.add('colab-df-spinner');\n",
              "      try {\n",
              "        const charts = await google.colab.kernel.invokeFunction(\n",
              "            'suggestCharts', [key], {});\n",
              "      } catch (error) {\n",
              "        console.error('Error during call to suggestCharts:', error);\n",
              "      }\n",
              "      quickchartButtonEl.classList.remove('colab-df-spinner');\n",
              "      quickchartButtonEl.classList.add('colab-df-quickchart-complete');\n",
              "    }\n",
              "    (() => {\n",
              "      let quickchartButtonEl =\n",
              "        document.querySelector('#df-225d7b7b-dc89-4bcf-9e5f-d92b67bea027 button');\n",
              "      quickchartButtonEl.style.display =\n",
              "        google.colab.kernel.accessAllowed ? 'block' : 'none';\n",
              "    })();\n",
              "  </script>\n",
              "</div>\n",
              "    </div>\n",
              "  </div>\n"
            ],
            "application/vnd.google.colaboratory.intrinsic+json": {
              "type": "dataframe",
              "variable_name": "df",
              "summary": "{\n  \"name\": \"df\",\n  \"rows\": 1500,\n  \"fields\": [\n    {\n      \"column\": \"hyponym\",\n      \"properties\": {\n        \"dtype\": \"string\",\n        \"num_unique_values\": 1500,\n        \"samples\": [\n          \"iota\",\n          \"res judicata\",\n          \"Giovanni da Verrazzano\"\n        ],\n        \"semantic_type\": \"\",\n        \"description\": \"\"\n      }\n    },\n    {\n      \"column\": \"property\",\n      \"properties\": {\n        \"dtype\": \"category\",\n        \"num_unique_values\": 2,\n        \"samples\": [\n          \"Entity\",\n          \"Concept\"\n        ],\n        \"semantic_type\": \"\",\n        \"description\": \"\"\n      }\n    },\n    {\n      \"column\": \"hypernyms\",\n      \"properties\": {\n        \"dtype\": \"string\",\n        \"num_unique_values\": 1402,\n        \"samples\": [\n          \"textile, fabric\",\n          \"tableware, implement\"\n        ],\n        \"semantic_type\": \"\",\n        \"description\": \"\"\n      }\n    },\n    {\n      \"column\": \"hyponyms_input\",\n      \"properties\": {\n        \"dtype\": \"string\",\n        \"num_unique_values\": 1500,\n        \"samples\": [\n          \"hyponym: iota, predict hypernyms:\",\n          \"hyponym: res judicata, predict hypernyms:\"\n        ],\n        \"semantic_type\": \"\",\n        \"description\": \"\"\n      }\n    }\n  ]\n}"
            }
          },
          "metadata": {},
          "execution_count": 8
        }
      ]
    },
    {
      "cell_type": "code",
      "source": [
        "class PairsDataset(torch.utils.data.Dataset):\n",
        "    def __init__(self, x, y):\n",
        "        self.x = x\n",
        "        self.y = y\n",
        "\n",
        "    def __getitem__(self, idx):\n",
        "        assert idx <= len(self.x['input_ids']), (idx, len(self.x['input_ids']))\n",
        "        item = {key: val[idx] for key, val in self.x.items()}\n",
        "        item['labels'] = self.y['input_ids'][idx]\n",
        "        return item\n",
        "\n",
        "    @property\n",
        "    def n(self):\n",
        "        return len(self.x['input_ids'])\n",
        "\n",
        "    def __len__(self):\n",
        "        return self.n"
      ],
      "metadata": {
        "id": "fTk4abkPCTVa"
      },
      "id": "fTk4abkPCTVa",
      "execution_count": 9,
      "outputs": []
    },
    {
      "cell_type": "markdown",
      "id": "23773d4e-e8d7-4e56-9610-4ee61b38c65a",
      "metadata": {
        "id": "23773d4e-e8d7-4e56-9610-4ee61b38c65a"
      },
      "source": [
        "## 3.3. Модель"
      ]
    },
    {
      "cell_type": "code",
      "source": [
        "from transformers import Trainer, TrainingArguments, DataCollatorWithPadding\n",
        "import gc\n",
        "\n",
        "def prepair_datasets(tokenizer, train_df, test_df):\n",
        "  train_dataset = PairsDataset(tokenizer(train_df['hyponyms_input'].tolist(), padding=\"max_length\",  max_length=50, truncation=True),\n",
        "                              tokenizer(train_df['hypernyms'].tolist(),  padding=\"max_length\",  max_length=50, truncation=True))\n",
        "  test_dataset = PairsDataset(tokenizer(test_df['hyponyms_input'].tolist(),  padding=\"max_length\",  max_length=50, truncation=True),\n",
        "                            tokenizer(test_df['hypernyms'].tolist(),  padding=\"max_length\",  max_length=50, truncation=True))\n",
        "\n",
        "  data_collator = DataCollatorWithPadding(tokenizer=tokenizer)\n",
        "  return train_dataset, test_dataset, data_collator"
      ],
      "metadata": {
        "id": "SpapvDueKdAk"
      },
      "id": "SpapvDueKdAk",
      "execution_count": null,
      "outputs": []
    },
    {
      "cell_type": "markdown",
      "source": [
        "### 3.3.1 Baseline model"
      ],
      "metadata": {
        "id": "1JAQWZl8Equg"
      },
      "id": "1JAQWZl8Equg"
    },
    {
      "cell_type": "markdown",
      "source": [
        "#### 3.3.1.1 Обучение"
      ],
      "metadata": {
        "id": "X6OEzShpKeVS"
      },
      "id": "X6OEzShpKeVS"
    },
    {
      "cell_type": "code",
      "source": [
        "# model training\n",
        "tokenizer_t5 = T5Tokenizer.from_pretrained(\"google/flan-t5-base\")\n",
        "model_t5 = T5ForConditionalGeneration.from_pretrained(\"google/flan-t5-base\").cuda()"
      ],
      "metadata": {
        "id": "uwhR-jlPINZn",
        "outputId": "aeb52b5d-193b-4c69-c563-e2a6458027e7",
        "colab": {
          "base_uri": "https://localhost:8080/"
        }
      },
      "id": "uwhR-jlPINZn",
      "execution_count": 18,
      "outputs": [
        {
          "output_type": "stream",
          "name": "stderr",
          "text": [
            "Special tokens have been added in the vocabulary, make sure the associated word embeddings are fine-tuned or trained.\n"
          ]
        }
      ]
    },
    {
      "cell_type": "code",
      "source": [
        "train_dataset_t5, test_dataset_t5, data_collator_t5 = prepair_datasets(tokenizer_t5, df, df_test)"
      ],
      "metadata": {
        "id": "Dejjh0PoF40N"
      },
      "id": "Dejjh0PoF40N",
      "execution_count": 19,
      "outputs": []
    },
    {
      "cell_type": "code",
      "source": [
        "args_t5 = TrainingArguments(output_dir=\"bart-base-finetuned\",\n",
        "                            num_train_epochs=10,\n",
        "                            per_device_train_batch_size=32,\n",
        "                            save_steps=10000)\n",
        "\n",
        "trainer_t5 = Trainer(\n",
        "    model = model_t5,\n",
        "    args = args_t5,\n",
        "    train_dataset = train_dataset_t5,\n",
        "    eval_dataset = test_dataset_t5,\n",
        "    tokenizer = tokenizer_t5\n",
        ")"
      ],
      "metadata": {
        "id": "CYVHwRXUE5q2"
      },
      "id": "CYVHwRXUE5q2",
      "execution_count": 20,
      "outputs": []
    },
    {
      "cell_type": "code",
      "source": [
        "def cleanup():\n",
        "    gc.collect()\n",
        "    torch.cuda.empty_cache()\n",
        "\n",
        "cleanup()"
      ],
      "metadata": {
        "id": "3Lzaxdd4E6Iy"
      },
      "id": "3Lzaxdd4E6Iy",
      "execution_count": 21,
      "outputs": []
    },
    {
      "cell_type": "code",
      "source": [
        "trainer_t5.train()"
      ],
      "metadata": {
        "id": "QqOe4T45GVD7",
        "outputId": "3be4e172-4df6-419d-d87b-d4b32b8256d3",
        "colab": {
          "base_uri": "https://localhost:8080/",
          "height": 126
        }
      },
      "id": "QqOe4T45GVD7",
      "execution_count": 22,
      "outputs": [
        {
          "output_type": "display_data",
          "data": {
            "text/plain": [
              "<IPython.core.display.HTML object>"
            ],
            "text/html": [
              "\n",
              "    <div>\n",
              "      \n",
              "      <progress value='470' max='470' style='width:300px; height:20px; vertical-align: middle;'></progress>\n",
              "      [470/470 06:32, Epoch 10/10]\n",
              "    </div>\n",
              "    <table border=\"1\" class=\"dataframe\">\n",
              "  <thead>\n",
              " <tr style=\"text-align: left;\">\n",
              "      <th>Step</th>\n",
              "      <th>Training Loss</th>\n",
              "    </tr>\n",
              "  </thead>\n",
              "  <tbody>\n",
              "  </tbody>\n",
              "</table><p>"
            ]
          },
          "metadata": {}
        },
        {
          "output_type": "execute_result",
          "data": {
            "text/plain": [
              "TrainOutput(global_step=470, training_loss=2.2564967378656915, metrics={'train_runtime': 393.0485, 'train_samples_per_second': 38.163, 'train_steps_per_second': 1.196, 'total_flos': 1003062528000000.0, 'train_loss': 2.2564967378656915, 'epoch': 10.0})"
            ]
          },
          "metadata": {},
          "execution_count": 22
        }
      ]
    },
    {
      "cell_type": "code",
      "source": [
        "#сохраняем\n",
        "current_model_name = \"flan-t5-base-finetuned\"\n",
        "trainer_t5.save_model(current_model_name)"
      ],
      "metadata": {
        "id": "vddhka0pGwy9",
        "outputId": "9a7ecd75-e4d4-490c-fc9f-c2522e014a2b",
        "colab": {
          "base_uri": "https://localhost:8080/"
        }
      },
      "id": "vddhka0pGwy9",
      "execution_count": 23,
      "outputs": [
        {
          "output_type": "stream",
          "name": "stderr",
          "text": [
            "Special tokens have been added in the vocabulary, make sure the associated word embeddings are fine-tuned or trained.\n"
          ]
        }
      ]
    },
    {
      "cell_type": "markdown",
      "source": [
        "#### 3.3.1.2 Применение"
      ],
      "metadata": {
        "id": "5-Lv_YPJKQWC"
      },
      "id": "5-Lv_YPJKQWC"
    },
    {
      "cell_type": "code",
      "source": [
        "\n",
        "#считываем\n",
        "t5_model_saved = current_model_name\n",
        "t5_model = T5ForConditionalGeneration.from_pretrained(t5_model_saved).to('cuda')\n",
        "t5_tokenizer = T5Tokenizer.from_pretrained(t5_model_saved)"
      ],
      "metadata": {
        "id": "0-lHTkOjKX_u"
      },
      "id": "0-lHTkOjKX_u",
      "execution_count": null,
      "outputs": []
    },
    {
      "cell_type": "code",
      "source": [
        "p = re.compile(r\"[,\\s]\")\n",
        "with open(\"./res_\"+current_model_name, \"w\", encoding='utf-8') as w:\n",
        "    for i_2, j_2 in tqdm(zip(df_test['hyponyms_input'].tolist(), df_test['hypernyms'].tolist()), total=1500):\n",
        "        input_ids = t5_tokenizer.encode(i_2, return_tensors=\"pt\")\n",
        "        outputs = t5_model.generate(input_ids.to('cuda'),\n",
        "                                    no_repeat_ngram_size=2, max_new_tokens=2048,\n",
        "                                      num_return_sequences=5, early_stopping=True, do_sample=True, num_beams=5)\n",
        "        decoded = [t5_tokenizer.decode(output, skip_special_tokens=True) for output in outputs]\n",
        "        decoded = [j for i in decoded for j in i.split(\", \")]\n",
        "        decoded = [i for i in decoded if i and i!='.' and i!=',']\n",
        "        decoded = [i[0].strip() for i in list(collections.Counter(decoded).most_common())]\n",
        "        w.write('\\t'.join(decoded)+'\\n')"
      ],
      "metadata": {
        "id": "fYBwdjYUHF2f",
        "outputId": "92826d63-3816-475c-ade2-b43f5b472997",
        "colab": {
          "base_uri": "https://localhost:8080/"
        }
      },
      "id": "fYBwdjYUHF2f",
      "execution_count": 26,
      "outputs": [
        {
          "output_type": "stream",
          "name": "stderr",
          "text": [
            "100%|██████████| 1500/1500 [07:19<00:00,  3.41it/s]\n"
          ]
        }
      ]
    },
    {
      "cell_type": "code",
      "source": [
        "!python task9-scorer.py test/gold/1A.english.test.gold.txt res_flan-t5-base-finetuned"
      ],
      "metadata": {
        "id": "rkT949UoHV1L",
        "outputId": "f6cf5010-68f4-43cd-d334-d17926478cf7",
        "colab": {
          "base_uri": "https://localhost:8080/"
        }
      },
      "id": "rkT949UoHV1L",
      "execution_count": 27,
      "outputs": [
        {
          "output_type": "stream",
          "name": "stdout",
          "text": [
            "MRR: 0.36296931216931183\n",
            "MAP: 0.18136090946090924\n",
            "P@1: 0.306\n",
            "P@3: 0.20611111111111136\n",
            "P@5: 0.17513333333333256\n",
            "P@15: 0.15833787138787103\n"
          ]
        }
      ]
    },
    {
      "cell_type": "markdown",
      "source": [
        "### 3.3.2 GPT2"
      ],
      "metadata": {
        "id": "GK-C7IItGfOj"
      },
      "id": "GK-C7IItGfOj"
    },
    {
      "cell_type": "code",
      "source": [],
      "metadata": {
        "id": "eGiEmtrlGfc3"
      },
      "id": "eGiEmtrlGfc3",
      "execution_count": null,
      "outputs": []
    },
    {
      "cell_type": "code",
      "source": [],
      "metadata": {
        "id": "UlDLwXnrGfvi"
      },
      "id": "UlDLwXnrGfvi",
      "execution_count": null,
      "outputs": []
    },
    {
      "cell_type": "markdown",
      "source": [
        "### 3.3.3 BART"
      ],
      "metadata": {
        "id": "puDpRsfzGf9j"
      },
      "id": "puDpRsfzGf9j"
    },
    {
      "cell_type": "code",
      "source": [],
      "metadata": {
        "id": "LDYeqnbwGgNJ"
      },
      "id": "LDYeqnbwGgNJ",
      "execution_count": null,
      "outputs": []
    },
    {
      "cell_type": "code",
      "source": [],
      "metadata": {
        "id": "43whYErjGgQS"
      },
      "id": "43whYErjGgQS",
      "execution_count": null,
      "outputs": []
    },
    {
      "cell_type": "markdown",
      "metadata": {
        "id": "9hlHZAJAL1qL"
      },
      "source": [
        "## 3.4. Применение модели"
      ],
      "id": "9hlHZAJAL1qL"
    },
    {
      "cell_type": "code",
      "source": [
        "# model inference"
      ],
      "metadata": {
        "id": "2jbRh4UuL1qP"
      },
      "execution_count": null,
      "outputs": [],
      "id": "2jbRh4UuL1qP"
    },
    {
      "cell_type": "code",
      "source": [],
      "metadata": {
        "id": "DsKZSMCyZBuU"
      },
      "id": "DsKZSMCyZBuU",
      "execution_count": null,
      "outputs": []
    }
  ],
  "metadata": {
    "kernelspec": {
      "display_name": "Python 3",
      "name": "python3"
    },
    "language_info": {
      "codemirror_mode": {
        "name": "ipython",
        "version": 3
      },
      "file_extension": ".py",
      "mimetype": "text/x-python",
      "name": "python",
      "nbconvert_exporter": "python",
      "pygments_lexer": "ipython3",
      "version": "3.7.10"
    },
    "colab": {
      "provenance": [],
      "gpuType": "T4",
      "include_colab_link": true
    },
    "accelerator": "GPU"
  },
  "nbformat": 4,
  "nbformat_minor": 5
}